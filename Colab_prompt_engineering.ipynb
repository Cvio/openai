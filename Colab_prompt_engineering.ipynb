{
  "nbformat": 4,
  "nbformat_minor": 0,
  "metadata": {
    "colab": {
      "provenance": []
    },
    "kernelspec": {
      "name": "python3",
      "display_name": "Python 3"
    },
    "language_info": {
      "name": "python"
    }
  },
  "cells": [
    {
      "cell_type": "markdown",
      "source": [
        "# Prompt Engineering"
      ],
      "metadata": {
        "id": "Q_cQBDfrtNoA"
      }
    },
    {
      "cell_type": "code",
      "source": [
        "# !pip install python-dotenv\n",
        "!pip install openai\n",
        "!python -m spacy download en_core_web_sm\n"
      ],
      "metadata": {
        "id": "FLqxbqDatuRo",
        "colab": {
          "base_uri": "https://localhost:8080/"
        },
        "outputId": "a43b025f-76f4-4348-da8f-6c702d45bfac"
      },
      "execution_count": 2,
      "outputs": [
        {
          "output_type": "stream",
          "name": "stdout",
          "text": [
            "  Downloading aiosignal-1.3.1-py3-none-any.whl (7.6 kB)\n",
            "Installing collected packages: multidict, frozenlist, async-timeout, yarl, aiosignal, aiohttp, openai\n",
            "Successfully installed aiohttp-3.8.4 aiosignal-1.3.1 async-timeout-4.0.2 frozenlist-1.3.3 multidict-6.0.4 openai-0.27.7 yarl-1.9.2\n"
          ]
        }
      ]
    },
    {
      "cell_type": "code",
      "execution_count": 3,
      "metadata": {
        "id": "LY1zqHOpnGY5"
      },
      "outputs": [],
      "source": [
        "import os\n",
        "# from dotenv import load_dotenv\n",
        "import openai\n",
        "import getpass\n",
        "import spacy\n",
        "sp = spacy.load('en_core_web_sm')\n",
        "# text-davinci-003\n",
        "# text-ada-001\n",
        "# gpt-3.5-turbo"
      ]
    },
    {
      "cell_type": "code",
      "source": [
        "#@title Hide\n",
        "openai.api_key = ''"
      ],
      "metadata": {
        "id": "GH1NW_BGnQa3"
      },
      "execution_count": 5,
      "outputs": []
    },
    {
      "cell_type": "code",
      "source": [
        "# 1. use latest models\n",
        "# 2. instructions placed at the start of the prompt on its own line\n",
        "#    and separate from the context\n",
        "# 3. be specific and descriptive\n",
        "\n",
        "system_role_content = '''\n",
        "You will play a role as a psychiatrist that asks questions of the user.\n",
        "'''\n",
        "\n",
        "# GOOD prompt example\n",
        "user_prompt = '''Translate the text below from English to German.\n",
        "\n",
        "  {Prompt engineering is a new discipline that I am practicing. My goal is to \\\n",
        "  grow as an artificial intelligence specialist and as a Mayo employee.}\n",
        "\n",
        "  '''\n",
        "\n",
        "msgs = [\n",
        "    {'role':'system','content':system_role_content},\n",
        "    {'role':'user','content':user_prompt}\n",
        "]\n",
        "\n",
        "resp = openai.ChatCompletion.create(\n",
        "    model='gpt-3.5-turbo',\n",
        "    messages=msgs,\n",
        "    temperature=0.7,\n",
        "    max_tokens=1024\n",
        ")"
      ],
      "metadata": {
        "id": "N8l-kXVVtM57"
      },
      "execution_count": 6,
      "outputs": []
    },
    {
      "cell_type": "code",
      "source": [
        "print(resp)"
      ],
      "metadata": {
        "id": "r6PAx5OIwq_E",
        "colab": {
          "base_uri": "https://localhost:8080/"
        },
        "outputId": "283b6e46-01c4-43c5-b881-91752b4e017d"
      },
      "execution_count": 7,
      "outputs": [
        {
          "output_type": "stream",
          "name": "stdout",
          "text": [
            "{\n",
            "  \"choices\": [\n",
            "    {\n",
            "      \"finish_reason\": \"stop\",\n",
            "      \"index\": 0,\n",
            "      \"message\": {\n",
            "        \"content\": \"Prompt-Engineering ist eine neue Disziplin, die ich praktiziere. Mein Ziel ist es, als k\\u00fcnstliche Intelligenz Spezialist und als Mitarbeiter von Mayo zu wachsen.\",\n",
            "        \"role\": \"assistant\"\n",
            "      }\n",
            "    }\n",
            "  ],\n",
            "  \"created\": 1685529136,\n",
            "  \"id\": \"chatcmpl-7MDPkBr0qtJCKovLma41ztDXaNSrI\",\n",
            "  \"model\": \"gpt-3.5-turbo-0301\",\n",
            "  \"object\": \"chat.completion\",\n",
            "  \"usage\": {\n",
            "    \"completion_tokens\": 42,\n",
            "    \"prompt_tokens\": 70,\n",
            "    \"total_tokens\": 112\n",
            "  }\n",
            "}\n"
          ]
        }
      ]
    },
    {
      "cell_type": "code",
      "source": [
        "print(resp['choices'][0]['message']['content'])"
      ],
      "metadata": {
        "id": "jZnij63JwhQV",
        "colab": {
          "base_uri": "https://localhost:8080/"
        },
        "outputId": "d23a6ebd-a573-4982-de12-0c754913e1c6"
      },
      "execution_count": 8,
      "outputs": [
        {
          "output_type": "stream",
          "name": "stdout",
          "text": [
            "Prompt-Engineering ist eine neue Disziplin, die ich praktiziere. Mein Ziel ist es, als künstliche Intelligenz Spezialist und als Mitarbeiter von Mayo zu wachsen.\n"
          ]
        }
      ]
    },
    {
      "cell_type": "code",
      "source": [
        "user_prompt = '''\n",
        "Extract keywords from the below text.\n",
        "Text: {Lorem Ipsum is simply dummy text of the printing \\\n",
        "and typesetting industry. Lorem Ipsum has been the industry's \\\n",
        "standard dummy text ever since the 1500s, when an unknown \\\n",
        "printer took a galley of type and scrambled it to make a type \\\n",
        "specimen book. It has survived not only five centuries, but \\\n",
        "also the leap into electronic typesetting, remaining essentially \\\n",
        "unchanged. It was popularised in the 1960s with the release of \\\n",
        "Letraset sheets containing Lorem Ipsum passages, and more recently \\\n",
        "with desktop publishing software like Aldus PageMaker including \\\n",
        "versions of Lorem Ipsum.}\n",
        "Keywords:\n",
        "'''\n",
        "\n",
        "msgs = [\n",
        "    {'role':'system','content':system_role_content},\n",
        "    {'role':'user','content':user_prompt}\n",
        "]\n",
        "\n",
        "resp = openai.ChatCompletion.create(\n",
        "    model='gpt-3.5-turbo',\n",
        "    messages=msgs,\n",
        "    temperature=0.7,\n",
        "    max_tokens=1024\n",
        ")"
      ],
      "metadata": {
        "id": "nfJ_NYN9xTko"
      },
      "execution_count": 9,
      "outputs": []
    },
    {
      "cell_type": "code",
      "source": [
        "r = resp['choices'][0]['message']['content']"
      ],
      "metadata": {
        "id": "07Sfvp8dVOWL"
      },
      "execution_count": 10,
      "outputs": []
    },
    {
      "cell_type": "code",
      "source": [
        "print(r)"
      ],
      "metadata": {
        "id": "45-498iTzZgD",
        "colab": {
          "base_uri": "https://localhost:8080/"
        },
        "outputId": "cabe087f-efdd-441f-8c30-3fd6d4e14f80"
      },
      "execution_count": 11,
      "outputs": [
        {
          "output_type": "stream",
          "name": "stdout",
          "text": [
            "Lorem Ipsum, dummy text, printing, typesetting, industry, standard, galley, type specimen book, electronic, unchanged, popularised, 1960s, Letraset sheets, passages, desktop publishing software, Aldus PageMaker, versions.\n"
          ]
        }
      ]
    },
    {
      "cell_type": "code",
      "source": [
        "sen = sp(r.replace(\"'\", \"\"))\n",
        "sen = sp(r.replace(\",\", \"\"))\n",
        "print(sen.text)"
      ],
      "metadata": {
        "id": "soBy0sidz4_N",
        "colab": {
          "base_uri": "https://localhost:8080/"
        },
        "outputId": "3dfb7c38-3ac8-4a12-e850-0d7a42157da0"
      },
      "execution_count": 15,
      "outputs": [
        {
          "output_type": "stream",
          "name": "stdout",
          "text": [
            "Lorem Ipsum dummy text printing typesetting industry standard galley type specimen book electronic unchanged popularised 1960s Letraset sheets passages desktop publishing software Aldus PageMaker versions.\n"
          ]
        }
      ]
    },
    {
      "cell_type": "code",
      "source": [
        "count = -1\n",
        "for word in sen:\n",
        "    count += 1\n",
        "    print(word,sen[count].pos_)"
      ],
      "metadata": {
        "id": "arTC5HRRVDde",
        "colab": {
          "base_uri": "https://localhost:8080/"
        },
        "outputId": "c7771730-8906-4134-e325-dc639c97e52a"
      },
      "execution_count": 16,
      "outputs": [
        {
          "output_type": "stream",
          "name": "stdout",
          "text": [
            "Lorem PROPN\n",
            "Ipsum PROPN\n",
            "dummy ADJ\n",
            "text NOUN\n",
            "printing NOUN\n",
            "typesetting VERB\n",
            "industry NOUN\n",
            "standard ADJ\n",
            "galley PROPN\n",
            "type NOUN\n",
            "specimen NOUN\n",
            "book NOUN\n",
            "electronic ADJ\n",
            "unchanged ADJ\n",
            "popularised ADJ\n",
            "1960s NOUN\n",
            "Letraset PROPN\n",
            "sheets NOUN\n",
            "passages VERB\n",
            "desktop NOUN\n",
            "publishing NOUN\n",
            "software NOUN\n",
            "Aldus PROPN\n",
            "PageMaker PROPN\n",
            "versions NOUN\n",
            ". PUNCT\n"
          ]
        }
      ]
    },
    {
      "cell_type": "code",
      "source": [
        "for word in sen:\n",
        "    print(f'{word.text:{12}} {word.pos_:{10}} {word.tag_:{8}} {spacy.explain(word.tag_)}')"
      ],
      "metadata": {
        "id": "F6GKFQuxVIRU",
        "colab": {
          "base_uri": "https://localhost:8080/"
        },
        "outputId": "1bd96c2f-8555-46b3-e66c-ca73442badd2"
      },
      "execution_count": 17,
      "outputs": [
        {
          "output_type": "stream",
          "name": "stdout",
          "text": [
            "Lorem        PROPN      NNP      noun, proper singular\n",
            "Ipsum        PROPN      NNP      noun, proper singular\n",
            "dummy        ADJ        JJ       adjective (English), other noun-modifier (Chinese)\n",
            "text         NOUN       NN       noun, singular or mass\n",
            "printing     NOUN       NN       noun, singular or mass\n",
            "typesetting  VERB       VBG      verb, gerund or present participle\n",
            "industry     NOUN       NN       noun, singular or mass\n",
            "standard     ADJ        JJ       adjective (English), other noun-modifier (Chinese)\n",
            "galley       PROPN      NNP      noun, proper singular\n",
            "type         NOUN       NN       noun, singular or mass\n",
            "specimen     NOUN       NNS      noun, plural\n",
            "book         NOUN       NN       noun, singular or mass\n",
            "electronic   ADJ        JJ       adjective (English), other noun-modifier (Chinese)\n",
            "unchanged    ADJ        JJ       adjective (English), other noun-modifier (Chinese)\n",
            "popularised  ADJ        JJ       adjective (English), other noun-modifier (Chinese)\n",
            "1960s        NOUN       NNS      noun, plural\n",
            "Letraset     PROPN      NNP      noun, proper singular\n",
            "sheets       NOUN       NNS      noun, plural\n",
            "passages     VERB       VBZ      verb, 3rd person singular present\n",
            "desktop      NOUN       NN       noun, singular or mass\n",
            "publishing   NOUN       NN       noun, singular or mass\n",
            "software     NOUN       NN       noun, singular or mass\n",
            "Aldus        PROPN      NNP      noun, proper singular\n",
            "PageMaker    PROPN      NNP      noun, proper singular\n",
            "versions     NOUN       NNS      noun, plural\n",
            ".            PUNCT      .        punctuation mark, sentence closer\n"
          ]
        }
      ]
    },
    {
      "cell_type": "code",
      "source": [],
      "metadata": {
        "id": "GiuY6RnZXe6y"
      },
      "execution_count": null,
      "outputs": []
    }
  ]
}
